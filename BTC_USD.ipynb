{
  "nbformat": 4,
  "nbformat_minor": 0,
  "metadata": {
    "colab": {
      "provenance": []
    },
    "kernelspec": {
      "name": "python3",
      "display_name": "Python 3"
    },
    "language_info": {
      "name": "python"
    }
  },
  "cells": [
    {
      "cell_type": "markdown",
      "source": [
        "**Step 1: Install Required Packages**"
      ],
      "metadata": {
        "id": "AKFSQqRoMsec"
      }
    },
    {
      "cell_type": "code",
      "execution_count": null,
      "metadata": {
        "colab": {
          "base_uri": "https://localhost:8080/"
        },
        "id": "fSiu52kMKRoS",
        "outputId": "bde0d630-86d3-4b76-f971-db29fa3559cb"
      },
      "outputs": [
        {
          "output_type": "stream",
          "name": "stdout",
          "text": [
            "Looking in indexes: https://pypi.org/simple, https://us-python.pkg.dev/colab-wheels/public/simple/\n",
            "Requirement already satisfied: pandas in /usr/local/lib/python3.10/dist-packages (1.5.3)\n",
            "Requirement already satisfied: numpy in /usr/local/lib/python3.10/dist-packages (1.22.4)\n",
            "Requirement already satisfied: matplotlib in /usr/local/lib/python3.10/dist-packages (3.7.1)\n",
            "Requirement already satisfied: tensorflow in /usr/local/lib/python3.10/dist-packages (2.12.0)\n",
            "Collecting sklearn\n",
            "  Using cached sklearn-0.0.post5.tar.gz (3.7 kB)\n",
            "  Preparing metadata (setup.py) ... \u001b[?25l\u001b[?25hdone\n",
            "Requirement already satisfied: python-dateutil>=2.8.1 in /usr/local/lib/python3.10/dist-packages (from pandas) (2.8.2)\n",
            "Requirement already satisfied: pytz>=2020.1 in /usr/local/lib/python3.10/dist-packages (from pandas) (2022.7.1)\n",
            "Requirement already satisfied: contourpy>=1.0.1 in /usr/local/lib/python3.10/dist-packages (from matplotlib) (1.0.7)\n",
            "Requirement already satisfied: cycler>=0.10 in /usr/local/lib/python3.10/dist-packages (from matplotlib) (0.11.0)\n",
            "Requirement already satisfied: fonttools>=4.22.0 in /usr/local/lib/python3.10/dist-packages (from matplotlib) (4.39.3)\n",
            "Requirement already satisfied: kiwisolver>=1.0.1 in /usr/local/lib/python3.10/dist-packages (from matplotlib) (1.4.4)\n",
            "Requirement already satisfied: packaging>=20.0 in /usr/local/lib/python3.10/dist-packages (from matplotlib) (23.1)\n",
            "Requirement already satisfied: pillow>=6.2.0 in /usr/local/lib/python3.10/dist-packages (from matplotlib) (8.4.0)\n",
            "Requirement already satisfied: pyparsing>=2.3.1 in /usr/local/lib/python3.10/dist-packages (from matplotlib) (3.0.9)\n",
            "Requirement already satisfied: absl-py>=1.0.0 in /usr/local/lib/python3.10/dist-packages (from tensorflow) (1.4.0)\n",
            "Requirement already satisfied: astunparse>=1.6.0 in /usr/local/lib/python3.10/dist-packages (from tensorflow) (1.6.3)\n",
            "Requirement already satisfied: flatbuffers>=2.0 in /usr/local/lib/python3.10/dist-packages (from tensorflow) (23.3.3)\n",
            "Requirement already satisfied: gast<=0.4.0,>=0.2.1 in /usr/local/lib/python3.10/dist-packages (from tensorflow) (0.4.0)\n",
            "Requirement already satisfied: google-pasta>=0.1.1 in /usr/local/lib/python3.10/dist-packages (from tensorflow) (0.2.0)\n",
            "Requirement already satisfied: grpcio<2.0,>=1.24.3 in /usr/local/lib/python3.10/dist-packages (from tensorflow) (1.54.0)\n",
            "Requirement already satisfied: h5py>=2.9.0 in /usr/local/lib/python3.10/dist-packages (from tensorflow) (3.8.0)\n",
            "Requirement already satisfied: jax>=0.3.15 in /usr/local/lib/python3.10/dist-packages (from tensorflow) (0.4.8)\n",
            "Requirement already satisfied: keras<2.13,>=2.12.0 in /usr/local/lib/python3.10/dist-packages (from tensorflow) (2.12.0)\n",
            "Requirement already satisfied: libclang>=13.0.0 in /usr/local/lib/python3.10/dist-packages (from tensorflow) (16.0.0)\n",
            "Requirement already satisfied: opt-einsum>=2.3.2 in /usr/local/lib/python3.10/dist-packages (from tensorflow) (3.3.0)\n",
            "Requirement already satisfied: protobuf!=4.21.0,!=4.21.1,!=4.21.2,!=4.21.3,!=4.21.4,!=4.21.5,<5.0.0dev,>=3.20.3 in /usr/local/lib/python3.10/dist-packages (from tensorflow) (3.20.3)\n",
            "Requirement already satisfied: setuptools in /usr/local/lib/python3.10/dist-packages (from tensorflow) (67.7.2)\n",
            "Requirement already satisfied: six>=1.12.0 in /usr/local/lib/python3.10/dist-packages (from tensorflow) (1.16.0)\n",
            "Requirement already satisfied: tensorboard<2.13,>=2.12 in /usr/local/lib/python3.10/dist-packages (from tensorflow) (2.12.2)\n",
            "Requirement already satisfied: tensorflow-estimator<2.13,>=2.12.0 in /usr/local/lib/python3.10/dist-packages (from tensorflow) (2.12.0)\n",
            "Requirement already satisfied: termcolor>=1.1.0 in /usr/local/lib/python3.10/dist-packages (from tensorflow) (2.3.0)\n",
            "Requirement already satisfied: typing-extensions>=3.6.6 in /usr/local/lib/python3.10/dist-packages (from tensorflow) (4.5.0)\n",
            "Requirement already satisfied: wrapt<1.15,>=1.11.0 in /usr/local/lib/python3.10/dist-packages (from tensorflow) (1.14.1)\n",
            "Requirement already satisfied: tensorflow-io-gcs-filesystem>=0.23.1 in /usr/local/lib/python3.10/dist-packages (from tensorflow) (0.32.0)\n",
            "Requirement already satisfied: wheel<1.0,>=0.23.0 in /usr/local/lib/python3.10/dist-packages (from astunparse>=1.6.0->tensorflow) (0.40.0)\n",
            "Requirement already satisfied: ml-dtypes>=0.0.3 in /usr/local/lib/python3.10/dist-packages (from jax>=0.3.15->tensorflow) (0.1.0)\n",
            "Requirement already satisfied: scipy>=1.7 in /usr/local/lib/python3.10/dist-packages (from jax>=0.3.15->tensorflow) (1.10.1)\n",
            "Requirement already satisfied: google-auth<3,>=1.6.3 in /usr/local/lib/python3.10/dist-packages (from tensorboard<2.13,>=2.12->tensorflow) (2.17.3)\n",
            "Requirement already satisfied: google-auth-oauthlib<1.1,>=0.5 in /usr/local/lib/python3.10/dist-packages (from tensorboard<2.13,>=2.12->tensorflow) (1.0.0)\n",
            "Requirement already satisfied: markdown>=2.6.8 in /usr/local/lib/python3.10/dist-packages (from tensorboard<2.13,>=2.12->tensorflow) (3.4.3)\n",
            "Requirement already satisfied: requests<3,>=2.21.0 in /usr/local/lib/python3.10/dist-packages (from tensorboard<2.13,>=2.12->tensorflow) (2.27.1)\n",
            "Requirement already satisfied: tensorboard-data-server<0.8.0,>=0.7.0 in /usr/local/lib/python3.10/dist-packages (from tensorboard<2.13,>=2.12->tensorflow) (0.7.0)\n",
            "Requirement already satisfied: tensorboard-plugin-wit>=1.6.0 in /usr/local/lib/python3.10/dist-packages (from tensorboard<2.13,>=2.12->tensorflow) (1.8.1)\n",
            "Requirement already satisfied: werkzeug>=1.0.1 in /usr/local/lib/python3.10/dist-packages (from tensorboard<2.13,>=2.12->tensorflow) (2.3.0)\n",
            "Requirement already satisfied: cachetools<6.0,>=2.0.0 in /usr/local/lib/python3.10/dist-packages (from google-auth<3,>=1.6.3->tensorboard<2.13,>=2.12->tensorflow) (5.3.0)\n",
            "Requirement already satisfied: pyasn1-modules>=0.2.1 in /usr/local/lib/python3.10/dist-packages (from google-auth<3,>=1.6.3->tensorboard<2.13,>=2.12->tensorflow) (0.3.0)\n",
            "Requirement already satisfied: rsa<5,>=3.1.4 in /usr/local/lib/python3.10/dist-packages (from google-auth<3,>=1.6.3->tensorboard<2.13,>=2.12->tensorflow) (4.9)\n",
            "Requirement already satisfied: requests-oauthlib>=0.7.0 in /usr/local/lib/python3.10/dist-packages (from google-auth-oauthlib<1.1,>=0.5->tensorboard<2.13,>=2.12->tensorflow) (1.3.1)\n",
            "Requirement already satisfied: urllib3<1.27,>=1.21.1 in /usr/local/lib/python3.10/dist-packages (from requests<3,>=2.21.0->tensorboard<2.13,>=2.12->tensorflow) (1.26.15)\n",
            "Requirement already satisfied: certifi>=2017.4.17 in /usr/local/lib/python3.10/dist-packages (from requests<3,>=2.21.0->tensorboard<2.13,>=2.12->tensorflow) (2022.12.7)\n",
            "Requirement already satisfied: charset-normalizer~=2.0.0 in /usr/local/lib/python3.10/dist-packages (from requests<3,>=2.21.0->tensorboard<2.13,>=2.12->tensorflow) (2.0.12)\n",
            "Requirement already satisfied: idna<4,>=2.5 in /usr/local/lib/python3.10/dist-packages (from requests<3,>=2.21.0->tensorboard<2.13,>=2.12->tensorflow) (3.4)\n",
            "Requirement already satisfied: MarkupSafe>=2.1.1 in /usr/local/lib/python3.10/dist-packages (from werkzeug>=1.0.1->tensorboard<2.13,>=2.12->tensorflow) (2.1.2)\n",
            "Requirement already satisfied: pyasn1<0.6.0,>=0.4.6 in /usr/local/lib/python3.10/dist-packages (from pyasn1-modules>=0.2.1->google-auth<3,>=1.6.3->tensorboard<2.13,>=2.12->tensorflow) (0.5.0)\n",
            "Requirement already satisfied: oauthlib>=3.0.0 in /usr/local/lib/python3.10/dist-packages (from requests-oauthlib>=0.7.0->google-auth-oauthlib<1.1,>=0.5->tensorboard<2.13,>=2.12->tensorflow) (3.2.2)\n",
            "Building wheels for collected packages: sklearn\n",
            "  Building wheel for sklearn (setup.py) ... \u001b[?25l\u001b[?25hdone\n",
            "  Created wheel for sklearn: filename=sklearn-0.0.post5-py3-none-any.whl size=2950 sha256=6ad0cd1a5879bb27475609a2ac898049c24ffd89e7a5204b2fc8e5c5504f3abe\n",
            "  Stored in directory: /root/.cache/pip/wheels/38/1f/8d/4f812c590e074c1e928f5cec67bf5053b71f38e2648739403a\n",
            "Successfully built sklearn\n",
            "Installing collected packages: sklearn\n",
            "Successfully installed sklearn-0.0.post5\n"
          ]
        }
      ],
      "source": [
        "!pip install pandas numpy matplotlib tensorflow sklearn\n"
      ]
    },
    {
      "cell_type": "markdown",
      "source": [
        "**Step 2: Import Required Packages**"
      ],
      "metadata": {
        "id": "ZMnfe2J6MyW0"
      }
    },
    {
      "cell_type": "code",
      "source": [
        "import pandas as pd\n",
        "import numpy as np\n",
        "import matplotlib.pyplot as plt\n",
        "from sklearn.preprocessing import MinMaxScaler\n",
        "from tensorflow.keras.models import Sequential\n",
        "from tensorflow.keras.layers import Dense, LSTM\n"
      ],
      "metadata": {
        "id": "2WmwB2nfKko5"
      },
      "execution_count": null,
      "outputs": []
    },
    {
      "cell_type": "markdown",
      "source": [
        "**Step 3: Load the Data**"
      ],
      "metadata": {
        "id": "8jr20l1QMzsy"
      }
    },
    {
      "cell_type": "code",
      "source": [
        "df = pd.read_csv('BTC-USD.csv')\n"
      ],
      "metadata": {
        "id": "CEy9d3fkKnJe"
      },
      "execution_count": null,
      "outputs": []
    },
    {
      "cell_type": "code",
      "source": [
        "from google.colab import drive\n",
        "drive.mount('/content/drive')\n",
        "\n",
        "path = \"/content/drive/MyDrive/BTC-USD.csv\"\n",
        "df = pd.read_csv(path)"
      ],
      "metadata": {
        "colab": {
          "base_uri": "https://localhost:8080/"
        },
        "id": "kTL6UTmIMP2T",
        "outputId": "3eb31b5d-8a98-4f02-f6a8-522209df782a"
      },
      "execution_count": null,
      "outputs": [
        {
          "output_type": "stream",
          "name": "stdout",
          "text": [
            "Mounted at /content/drive\n"
          ]
        }
      ]
    },
    {
      "cell_type": "code",
      "source": [
        "df.head()"
      ],
      "metadata": {
        "colab": {
          "base_uri": "https://localhost:8080/",
          "height": 206
        },
        "id": "0EiMJkGfMa9s",
        "outputId": "69e714a8-7df9-461f-f720-bdb932e806c9"
      },
      "execution_count": null,
      "outputs": [
        {
          "output_type": "execute_result",
          "data": {
            "text/plain": [
              "         Date          Open          High           Low         Close  \\\n",
              "0  2022-05-08  35502.941406  35502.941406  33878.964844  34059.265625   \n",
              "1  2022-05-09  34060.015625  34222.074219  30296.953125  30296.953125   \n",
              "2  2022-05-10  30273.654297  32596.308594  29944.802734  31022.906250   \n",
              "3  2022-05-11  31016.183594  32013.402344  28170.414063  28936.355469   \n",
              "4  2022-05-12  28936.734375  30032.439453  26350.490234  29047.751953   \n",
              "\n",
              "      Adj Close       Volume  \n",
              "0  34059.265625  36763041910  \n",
              "1  30296.953125  63355494961  \n",
              "2  31022.906250  59811038817  \n",
              "3  28936.355469  70388855818  \n",
              "4  29047.751953  66989173272  "
            ],
            "text/html": [
              "\n",
              "  <div id=\"df-1a0937fa-c128-4d12-980b-7c227126f6c6\">\n",
              "    <div class=\"colab-df-container\">\n",
              "      <div>\n",
              "<style scoped>\n",
              "    .dataframe tbody tr th:only-of-type {\n",
              "        vertical-align: middle;\n",
              "    }\n",
              "\n",
              "    .dataframe tbody tr th {\n",
              "        vertical-align: top;\n",
              "    }\n",
              "\n",
              "    .dataframe thead th {\n",
              "        text-align: right;\n",
              "    }\n",
              "</style>\n",
              "<table border=\"1\" class=\"dataframe\">\n",
              "  <thead>\n",
              "    <tr style=\"text-align: right;\">\n",
              "      <th></th>\n",
              "      <th>Date</th>\n",
              "      <th>Open</th>\n",
              "      <th>High</th>\n",
              "      <th>Low</th>\n",
              "      <th>Close</th>\n",
              "      <th>Adj Close</th>\n",
              "      <th>Volume</th>\n",
              "    </tr>\n",
              "  </thead>\n",
              "  <tbody>\n",
              "    <tr>\n",
              "      <th>0</th>\n",
              "      <td>2022-05-08</td>\n",
              "      <td>35502.941406</td>\n",
              "      <td>35502.941406</td>\n",
              "      <td>33878.964844</td>\n",
              "      <td>34059.265625</td>\n",
              "      <td>34059.265625</td>\n",
              "      <td>36763041910</td>\n",
              "    </tr>\n",
              "    <tr>\n",
              "      <th>1</th>\n",
              "      <td>2022-05-09</td>\n",
              "      <td>34060.015625</td>\n",
              "      <td>34222.074219</td>\n",
              "      <td>30296.953125</td>\n",
              "      <td>30296.953125</td>\n",
              "      <td>30296.953125</td>\n",
              "      <td>63355494961</td>\n",
              "    </tr>\n",
              "    <tr>\n",
              "      <th>2</th>\n",
              "      <td>2022-05-10</td>\n",
              "      <td>30273.654297</td>\n",
              "      <td>32596.308594</td>\n",
              "      <td>29944.802734</td>\n",
              "      <td>31022.906250</td>\n",
              "      <td>31022.906250</td>\n",
              "      <td>59811038817</td>\n",
              "    </tr>\n",
              "    <tr>\n",
              "      <th>3</th>\n",
              "      <td>2022-05-11</td>\n",
              "      <td>31016.183594</td>\n",
              "      <td>32013.402344</td>\n",
              "      <td>28170.414063</td>\n",
              "      <td>28936.355469</td>\n",
              "      <td>28936.355469</td>\n",
              "      <td>70388855818</td>\n",
              "    </tr>\n",
              "    <tr>\n",
              "      <th>4</th>\n",
              "      <td>2022-05-12</td>\n",
              "      <td>28936.734375</td>\n",
              "      <td>30032.439453</td>\n",
              "      <td>26350.490234</td>\n",
              "      <td>29047.751953</td>\n",
              "      <td>29047.751953</td>\n",
              "      <td>66989173272</td>\n",
              "    </tr>\n",
              "  </tbody>\n",
              "</table>\n",
              "</div>\n",
              "      <button class=\"colab-df-convert\" onclick=\"convertToInteractive('df-1a0937fa-c128-4d12-980b-7c227126f6c6')\"\n",
              "              title=\"Convert this dataframe to an interactive table.\"\n",
              "              style=\"display:none;\">\n",
              "        \n",
              "  <svg xmlns=\"http://www.w3.org/2000/svg\" height=\"24px\"viewBox=\"0 0 24 24\"\n",
              "       width=\"24px\">\n",
              "    <path d=\"M0 0h24v24H0V0z\" fill=\"none\"/>\n",
              "    <path d=\"M18.56 5.44l.94 2.06.94-2.06 2.06-.94-2.06-.94-.94-2.06-.94 2.06-2.06.94zm-11 1L8.5 8.5l.94-2.06 2.06-.94-2.06-.94L8.5 2.5l-.94 2.06-2.06.94zm10 10l.94 2.06.94-2.06 2.06-.94-2.06-.94-.94-2.06-.94 2.06-2.06.94z\"/><path d=\"M17.41 7.96l-1.37-1.37c-.4-.4-.92-.59-1.43-.59-.52 0-1.04.2-1.43.59L10.3 9.45l-7.72 7.72c-.78.78-.78 2.05 0 2.83L4 21.41c.39.39.9.59 1.41.59.51 0 1.02-.2 1.41-.59l7.78-7.78 2.81-2.81c.8-.78.8-2.07 0-2.86zM5.41 20L4 18.59l7.72-7.72 1.47 1.35L5.41 20z\"/>\n",
              "  </svg>\n",
              "      </button>\n",
              "      \n",
              "  <style>\n",
              "    .colab-df-container {\n",
              "      display:flex;\n",
              "      flex-wrap:wrap;\n",
              "      gap: 12px;\n",
              "    }\n",
              "\n",
              "    .colab-df-convert {\n",
              "      background-color: #E8F0FE;\n",
              "      border: none;\n",
              "      border-radius: 50%;\n",
              "      cursor: pointer;\n",
              "      display: none;\n",
              "      fill: #1967D2;\n",
              "      height: 32px;\n",
              "      padding: 0 0 0 0;\n",
              "      width: 32px;\n",
              "    }\n",
              "\n",
              "    .colab-df-convert:hover {\n",
              "      background-color: #E2EBFA;\n",
              "      box-shadow: 0px 1px 2px rgba(60, 64, 67, 0.3), 0px 1px 3px 1px rgba(60, 64, 67, 0.15);\n",
              "      fill: #174EA6;\n",
              "    }\n",
              "\n",
              "    [theme=dark] .colab-df-convert {\n",
              "      background-color: #3B4455;\n",
              "      fill: #D2E3FC;\n",
              "    }\n",
              "\n",
              "    [theme=dark] .colab-df-convert:hover {\n",
              "      background-color: #434B5C;\n",
              "      box-shadow: 0px 1px 3px 1px rgba(0, 0, 0, 0.15);\n",
              "      filter: drop-shadow(0px 1px 2px rgba(0, 0, 0, 0.3));\n",
              "      fill: #FFFFFF;\n",
              "    }\n",
              "  </style>\n",
              "\n",
              "      <script>\n",
              "        const buttonEl =\n",
              "          document.querySelector('#df-1a0937fa-c128-4d12-980b-7c227126f6c6 button.colab-df-convert');\n",
              "        buttonEl.style.display =\n",
              "          google.colab.kernel.accessAllowed ? 'block' : 'none';\n",
              "\n",
              "        async function convertToInteractive(key) {\n",
              "          const element = document.querySelector('#df-1a0937fa-c128-4d12-980b-7c227126f6c6');\n",
              "          const dataTable =\n",
              "            await google.colab.kernel.invokeFunction('convertToInteractive',\n",
              "                                                     [key], {});\n",
              "          if (!dataTable) return;\n",
              "\n",
              "          const docLinkHtml = 'Like what you see? Visit the ' +\n",
              "            '<a target=\"_blank\" href=https://colab.research.google.com/notebooks/data_table.ipynb>data table notebook</a>'\n",
              "            + ' to learn more about interactive tables.';\n",
              "          element.innerHTML = '';\n",
              "          dataTable['output_type'] = 'display_data';\n",
              "          await google.colab.output.renderOutput(dataTable, element);\n",
              "          const docLink = document.createElement('div');\n",
              "          docLink.innerHTML = docLinkHtml;\n",
              "          element.appendChild(docLink);\n",
              "        }\n",
              "      </script>\n",
              "    </div>\n",
              "  </div>\n",
              "  "
            ]
          },
          "metadata": {},
          "execution_count": 11
        }
      ]
    },
    {
      "cell_type": "markdown",
      "source": [
        "**Step 4: Preprocess the Data**"
      ],
      "metadata": {
        "id": "m746MoUbNA-5"
      }
    },
    {
      "cell_type": "code",
      "source": [
        "# Filter only the relevant columns\n",
        "df = df[['Date', 'Close']]\n",
        "# Convert the 'Date' column to datetime format\n",
        "df['Date'] = pd.to_datetime(df['Date'])\n",
        "# Set the 'Date' column as the index\n",
        "df.set_index('Date', inplace=True)\n",
        "# Scale the data\n",
        "scaler = MinMaxScaler()\n",
        "df = pd.DataFrame(scaler.fit_transform(df), columns=df.columns, index=df.index)\n"
      ],
      "metadata": {
        "colab": {
          "base_uri": "https://localhost:8080/"
        },
        "id": "PgC6EYP0LBf_",
        "outputId": "707a189f-3e09-4f80-ba1d-4c898693a1a8"
      },
      "execution_count": null,
      "outputs": [
        {
          "output_type": "stream",
          "name": "stderr",
          "text": [
            "<ipython-input-4-ff24f508167d>:4: SettingWithCopyWarning: \n",
            "A value is trying to be set on a copy of a slice from a DataFrame.\n",
            "Try using .loc[row_indexer,col_indexer] = value instead\n",
            "\n",
            "See the caveats in the documentation: https://pandas.pydata.org/pandas-docs/stable/user_guide/indexing.html#returning-a-view-versus-a-copy\n",
            "  df['Date'] = pd.to_datetime(df['Date'])\n"
          ]
        }
      ]
    },
    {
      "cell_type": "markdown",
      "source": [
        "**Step 5: Split the Data into Training and Testing Sets**"
      ],
      "metadata": {
        "id": "P1Ylx_I8NIrQ"
      }
    },
    {
      "cell_type": "code",
      "source": [
        "# Split the data into training and testing sets\n",
        "train_size = int(len(df) * 0.8)\n",
        "test_size = len(df) - train_size\n",
        "train_data, test_data = df.iloc[0:train_size,:], df.iloc[train_size:len(df),:]\n"
      ],
      "metadata": {
        "id": "tA9cB1K2LGNX"
      },
      "execution_count": null,
      "outputs": []
    },
    {
      "cell_type": "markdown",
      "source": [
        "**Step 6: Prepare the Data for LSTM Model**"
      ],
      "metadata": {
        "id": "sR-OhC2WNUxw"
      }
    },
    {
      "cell_type": "code",
      "source": [
        "def create_dataset(X, y, time_steps=1):\n",
        "    Xs, ys = [], []\n",
        "    for i in range(len(X) - time_steps):\n",
        "        v = X.iloc[i:(i + time_steps)].values\n",
        "        Xs.append(v)        \n",
        "        ys.append(y.iloc[i + time_steps])\n",
        "    return np.array(Xs), np.array(ys)\n",
        "\n",
        "time_steps = 30\n",
        "X_train, y_train = create_dataset(train_data, train_data.Close, time_steps)\n",
        "X_test, y_test = create_dataset(test_data, test_data.Close, time_steps)\n"
      ],
      "metadata": {
        "id": "zIAgzi0NLJU3"
      },
      "execution_count": null,
      "outputs": []
    },
    {
      "cell_type": "markdown",
      "source": [
        "**Step 7: Build the LSTM Model**"
      ],
      "metadata": {
        "id": "9OWtUY7LNZV_"
      }
    },
    {
      "cell_type": "code",
      "source": [
        "model = Sequential()\n",
        "model.add(LSTM(units=50, return_sequences=True, input_shape=(X_train.shape[1], 1)))\n",
        "model.add(LSTM(units=50))\n",
        "model.add(Dense(1))\n",
        "\n",
        "model.compile(optimizer='adam', loss='mean_squared_error')\n"
      ],
      "metadata": {
        "id": "7gycc3taLRl_"
      },
      "execution_count": null,
      "outputs": []
    },
    {
      "cell_type": "markdown",
      "source": [
        "**Step 8: Train the LSTM Model**"
      ],
      "metadata": {
        "id": "IxFmmoOvNetY"
      }
    },
    {
      "cell_type": "code",
      "source": [
        "history = model.fit(X_train, y_train, epochs=100, batch_size=32, validation_split=0.1, shuffle=False)\n"
      ],
      "metadata": {
        "colab": {
          "base_uri": "https://localhost:8080/"
        },
        "id": "qasfW7rkLVFv",
        "outputId": "eb6c5325-4012-4e82-b737-85c3d909e676"
      },
      "execution_count": null,
      "outputs": [
        {
          "output_type": "stream",
          "name": "stdout",
          "text": [
            "Epoch 1/100\n",
            "8/8 [==============================] - 6s 177ms/step - loss: 0.0457 - val_loss: 0.0061\n",
            "Epoch 2/100\n",
            "8/8 [==============================] - 0s 39ms/step - loss: 0.0143 - val_loss: 0.0110\n",
            "Epoch 3/100\n",
            "8/8 [==============================] - 0s 36ms/step - loss: 0.0099 - val_loss: 0.0176\n",
            "Epoch 4/100\n",
            "8/8 [==============================] - 0s 36ms/step - loss: 0.0097 - val_loss: 0.0103\n",
            "Epoch 5/100\n",
            "8/8 [==============================] - 0s 35ms/step - loss: 0.0093 - val_loss: 0.0084\n",
            "Epoch 6/100\n",
            "8/8 [==============================] - 0s 62ms/step - loss: 0.0086 - val_loss: 0.0106\n",
            "Epoch 7/100\n",
            "8/8 [==============================] - 0s 62ms/step - loss: 0.0080 - val_loss: 0.0089\n",
            "Epoch 8/100\n",
            "8/8 [==============================] - 1s 64ms/step - loss: 0.0076 - val_loss: 0.0074\n",
            "Epoch 9/100\n",
            "8/8 [==============================] - 1s 72ms/step - loss: 0.0071 - val_loss: 0.0078\n",
            "Epoch 10/100\n",
            "8/8 [==============================] - 1s 64ms/step - loss: 0.0066 - val_loss: 0.0065\n",
            "Epoch 11/100\n",
            "8/8 [==============================] - 0s 53ms/step - loss: 0.0062 - val_loss: 0.0065\n",
            "Epoch 12/100\n",
            "8/8 [==============================] - 0s 37ms/step - loss: 0.0060 - val_loss: 0.0056\n",
            "Epoch 13/100\n",
            "8/8 [==============================] - 0s 35ms/step - loss: 0.0057 - val_loss: 0.0061\n",
            "Epoch 14/100\n",
            "8/8 [==============================] - 0s 35ms/step - loss: 0.0057 - val_loss: 0.0048\n",
            "Epoch 15/100\n",
            "8/8 [==============================] - 0s 35ms/step - loss: 0.0052 - val_loss: 0.0062\n",
            "Epoch 16/100\n",
            "8/8 [==============================] - 0s 35ms/step - loss: 0.0054 - val_loss: 0.0040\n",
            "Epoch 17/100\n",
            "8/8 [==============================] - 0s 36ms/step - loss: 0.0048 - val_loss: 0.0072\n",
            "Epoch 18/100\n",
            "8/8 [==============================] - 0s 35ms/step - loss: 0.0053 - val_loss: 0.0034\n",
            "Epoch 19/100\n",
            "8/8 [==============================] - 0s 36ms/step - loss: 0.0046 - val_loss: 0.0087\n",
            "Epoch 20/100\n",
            "8/8 [==============================] - 0s 36ms/step - loss: 0.0052 - val_loss: 0.0031\n",
            "Epoch 21/100\n",
            "8/8 [==============================] - 0s 37ms/step - loss: 0.0045 - val_loss: 0.0094\n",
            "Epoch 22/100\n",
            "8/8 [==============================] - 0s 39ms/step - loss: 0.0050 - val_loss: 0.0030\n",
            "Epoch 23/100\n",
            "8/8 [==============================] - 0s 35ms/step - loss: 0.0043 - val_loss: 0.0079\n",
            "Epoch 24/100\n",
            "8/8 [==============================] - 0s 38ms/step - loss: 0.0045 - val_loss: 0.0031\n",
            "Epoch 25/100\n",
            "8/8 [==============================] - 0s 35ms/step - loss: 0.0040 - val_loss: 0.0060\n",
            "Epoch 26/100\n",
            "8/8 [==============================] - 0s 37ms/step - loss: 0.0040 - val_loss: 0.0034\n",
            "Epoch 27/100\n",
            "8/8 [==============================] - 0s 37ms/step - loss: 0.0037 - val_loss: 0.0049\n",
            "Epoch 28/100\n",
            "8/8 [==============================] - 0s 36ms/step - loss: 0.0037 - val_loss: 0.0035\n",
            "Epoch 29/100\n",
            "8/8 [==============================] - 0s 35ms/step - loss: 0.0036 - val_loss: 0.0045\n",
            "Epoch 30/100\n",
            "8/8 [==============================] - 0s 36ms/step - loss: 0.0036 - val_loss: 0.0034\n",
            "Epoch 31/100\n",
            "8/8 [==============================] - 0s 38ms/step - loss: 0.0035 - val_loss: 0.0043\n",
            "Epoch 32/100\n",
            "8/8 [==============================] - 0s 37ms/step - loss: 0.0035 - val_loss: 0.0033\n",
            "Epoch 33/100\n",
            "8/8 [==============================] - 0s 36ms/step - loss: 0.0034 - val_loss: 0.0043\n",
            "Epoch 34/100\n",
            "8/8 [==============================] - 0s 39ms/step - loss: 0.0034 - val_loss: 0.0030\n",
            "Epoch 35/100\n",
            "8/8 [==============================] - 0s 39ms/step - loss: 0.0033 - val_loss: 0.0046\n",
            "Epoch 36/100\n",
            "8/8 [==============================] - 0s 37ms/step - loss: 0.0034 - val_loss: 0.0027\n",
            "Epoch 37/100\n",
            "8/8 [==============================] - 0s 35ms/step - loss: 0.0032 - val_loss: 0.0052\n",
            "Epoch 38/100\n",
            "8/8 [==============================] - 0s 35ms/step - loss: 0.0035 - val_loss: 0.0025\n",
            "Epoch 39/100\n",
            "8/8 [==============================] - 0s 35ms/step - loss: 0.0033 - val_loss: 0.0066\n",
            "Epoch 40/100\n",
            "8/8 [==============================] - 0s 34ms/step - loss: 0.0037 - val_loss: 0.0026\n",
            "Epoch 41/100\n",
            "8/8 [==============================] - 0s 38ms/step - loss: 0.0035 - val_loss: 0.0086\n",
            "Epoch 42/100\n",
            "8/8 [==============================] - 0s 35ms/step - loss: 0.0041 - val_loss: 0.0030\n",
            "Epoch 43/100\n",
            "8/8 [==============================] - 0s 35ms/step - loss: 0.0037 - val_loss: 0.0094\n",
            "Epoch 44/100\n",
            "8/8 [==============================] - 0s 40ms/step - loss: 0.0042 - val_loss: 0.0027\n",
            "Epoch 45/100\n",
            "8/8 [==============================] - 0s 45ms/step - loss: 0.0036 - val_loss: 0.0069\n",
            "Epoch 46/100\n",
            "8/8 [==============================] - 0s 56ms/step - loss: 0.0036 - val_loss: 0.0023\n",
            "Epoch 47/100\n",
            "8/8 [==============================] - 0s 60ms/step - loss: 0.0032 - val_loss: 0.0041\n",
            "Epoch 48/100\n",
            "8/8 [==============================] - 0s 60ms/step - loss: 0.0031 - val_loss: 0.0025\n",
            "Epoch 49/100\n",
            "8/8 [==============================] - 0s 56ms/step - loss: 0.0030 - val_loss: 0.0031\n",
            "Epoch 50/100\n",
            "8/8 [==============================] - 0s 59ms/step - loss: 0.0029 - val_loss: 0.0027\n",
            "Epoch 51/100\n",
            "8/8 [==============================] - 0s 47ms/step - loss: 0.0029 - val_loss: 0.0028\n",
            "Epoch 52/100\n",
            "8/8 [==============================] - 0s 37ms/step - loss: 0.0028 - val_loss: 0.0027\n",
            "Epoch 53/100\n",
            "8/8 [==============================] - 0s 36ms/step - loss: 0.0028 - val_loss: 0.0027\n",
            "Epoch 54/100\n",
            "8/8 [==============================] - 0s 34ms/step - loss: 0.0028 - val_loss: 0.0027\n",
            "Epoch 55/100\n",
            "8/8 [==============================] - 0s 40ms/step - loss: 0.0027 - val_loss: 0.0026\n",
            "Epoch 56/100\n",
            "8/8 [==============================] - 0s 35ms/step - loss: 0.0027 - val_loss: 0.0026\n",
            "Epoch 57/100\n",
            "8/8 [==============================] - 0s 34ms/step - loss: 0.0027 - val_loss: 0.0026\n",
            "Epoch 58/100\n",
            "8/8 [==============================] - 0s 35ms/step - loss: 0.0027 - val_loss: 0.0025\n",
            "Epoch 59/100\n",
            "8/8 [==============================] - 0s 39ms/step - loss: 0.0026 - val_loss: 0.0025\n",
            "Epoch 60/100\n",
            "8/8 [==============================] - 0s 36ms/step - loss: 0.0026 - val_loss: 0.0025\n",
            "Epoch 61/100\n",
            "8/8 [==============================] - 0s 34ms/step - loss: 0.0026 - val_loss: 0.0024\n",
            "Epoch 62/100\n",
            "8/8 [==============================] - 0s 36ms/step - loss: 0.0025 - val_loss: 0.0024\n",
            "Epoch 63/100\n",
            "8/8 [==============================] - 0s 44ms/step - loss: 0.0025 - val_loss: 0.0024\n",
            "Epoch 64/100\n",
            "8/8 [==============================] - 0s 52ms/step - loss: 0.0025 - val_loss: 0.0024\n",
            "Epoch 65/100\n",
            "8/8 [==============================] - 0s 37ms/step - loss: 0.0024 - val_loss: 0.0023\n",
            "Epoch 66/100\n",
            "8/8 [==============================] - 1s 70ms/step - loss: 0.0024 - val_loss: 0.0023\n",
            "Epoch 67/100\n",
            "8/8 [==============================] - 0s 39ms/step - loss: 0.0024 - val_loss: 0.0022\n",
            "Epoch 68/100\n",
            "8/8 [==============================] - 1s 73ms/step - loss: 0.0023 - val_loss: 0.0023\n",
            "Epoch 69/100\n",
            "8/8 [==============================] - 0s 36ms/step - loss: 0.0023 - val_loss: 0.0021\n",
            "Epoch 70/100\n",
            "8/8 [==============================] - 0s 36ms/step - loss: 0.0023 - val_loss: 0.0022\n",
            "Epoch 71/100\n",
            "8/8 [==============================] - 0s 37ms/step - loss: 0.0023 - val_loss: 0.0020\n",
            "Epoch 72/100\n",
            "8/8 [==============================] - 0s 36ms/step - loss: 0.0022 - val_loss: 0.0022\n",
            "Epoch 73/100\n",
            "8/8 [==============================] - 0s 35ms/step - loss: 0.0023 - val_loss: 0.0020\n",
            "Epoch 74/100\n",
            "8/8 [==============================] - 0s 36ms/step - loss: 0.0022 - val_loss: 0.0019\n",
            "Epoch 75/100\n",
            "8/8 [==============================] - 0s 33ms/step - loss: 0.0022 - val_loss: 0.0021\n",
            "Epoch 76/100\n",
            "8/8 [==============================] - 0s 36ms/step - loss: 0.0022 - val_loss: 0.0019\n",
            "Epoch 77/100\n",
            "8/8 [==============================] - 0s 34ms/step - loss: 0.0021 - val_loss: 0.0017\n",
            "Epoch 78/100\n",
            "8/8 [==============================] - 0s 36ms/step - loss: 0.0021 - val_loss: 0.0023\n",
            "Epoch 79/100\n",
            "8/8 [==============================] - 0s 35ms/step - loss: 0.0023 - val_loss: 0.0019\n",
            "Epoch 80/100\n",
            "8/8 [==============================] - 0s 35ms/step - loss: 0.0022 - val_loss: 0.0015\n",
            "Epoch 81/100\n",
            "8/8 [==============================] - 0s 35ms/step - loss: 0.0021 - val_loss: 0.0032\n",
            "Epoch 82/100\n",
            "8/8 [==============================] - 0s 36ms/step - loss: 0.0029 - val_loss: 0.0016\n",
            "Epoch 83/100\n",
            "8/8 [==============================] - 0s 43ms/step - loss: 0.0021 - val_loss: 0.0019\n",
            "Epoch 84/100\n",
            "8/8 [==============================] - 0s 60ms/step - loss: 0.0021 - val_loss: 0.0016\n",
            "Epoch 85/100\n",
            "8/8 [==============================] - 0s 57ms/step - loss: 0.0020 - val_loss: 0.0023\n",
            "Epoch 86/100\n",
            "8/8 [==============================] - 0s 58ms/step - loss: 0.0022 - val_loss: 0.0014\n",
            "Epoch 87/100\n",
            "8/8 [==============================] - 0s 58ms/step - loss: 0.0019 - val_loss: 0.0024\n",
            "Epoch 88/100\n",
            "8/8 [==============================] - 0s 63ms/step - loss: 0.0021 - val_loss: 0.0014\n",
            "Epoch 89/100\n",
            "8/8 [==============================] - 0s 60ms/step - loss: 0.0020 - val_loss: 0.0026\n",
            "Epoch 90/100\n",
            "8/8 [==============================] - 0s 39ms/step - loss: 0.0023 - val_loss: 0.0013\n",
            "Epoch 91/100\n",
            "8/8 [==============================] - 0s 41ms/step - loss: 0.0020 - val_loss: 0.0029\n",
            "Epoch 92/100\n",
            "8/8 [==============================] - 0s 38ms/step - loss: 0.0023 - val_loss: 0.0014\n",
            "Epoch 93/100\n",
            "8/8 [==============================] - 0s 35ms/step - loss: 0.0021 - val_loss: 0.0039\n",
            "Epoch 94/100\n",
            "8/8 [==============================] - 0s 37ms/step - loss: 0.0026 - val_loss: 0.0021\n",
            "Epoch 95/100\n",
            "8/8 [==============================] - 0s 40ms/step - loss: 0.0025 - val_loss: 0.0072\n",
            "Epoch 96/100\n",
            "8/8 [==============================] - 0s 35ms/step - loss: 0.0034 - val_loss: 0.0046\n",
            "Epoch 97/100\n",
            "8/8 [==============================] - 0s 35ms/step - loss: 0.0034 - val_loss: 0.0127\n",
            "Epoch 98/100\n",
            "8/8 [==============================] - 0s 39ms/step - loss: 0.0046 - val_loss: 0.0041\n",
            "Epoch 99/100\n",
            "8/8 [==============================] - 0s 36ms/step - loss: 0.0033 - val_loss: 0.0074\n",
            "Epoch 100/100\n",
            "8/8 [==============================] - 0s 35ms/step - loss: 0.0032 - val_loss: 0.0013\n"
          ]
        }
      ]
    },
    {
      "cell_type": "markdown",
      "source": [
        "**Step 9: Make Predictions on Test Data and Evaluate the Model**"
      ],
      "metadata": {
        "id": "6dNSwS_JNpT_"
      }
    },
    {
      "cell_type": "code",
      "source": [
        "# Make predictions on test data\n",
        "y_pred = model.predict(X_test)\n",
        "\n",
        "# Inverse transform the predictions and actual values\n",
        "y_pred = scaler.inverse_transform(y_pred)\n",
        "y_test = scaler.inverse_transform(y_test.reshape(-1, 1))\n",
        "\n",
        "# Calculate the root mean squared error (RMSE)\n",
        "rmse = np.sqrt(np.mean(((y_pred - y_test) ** 2)))\n",
        "print('RMSE:', rmse)\n",
        "\n",
        "# Plot the predicted and actual values\n",
        "plt.plot(y_test, label='Actual')\n",
        "plt.plot(y_pred, label='Predicted')\n",
        "plt.legend()\n",
        "plt.show()\n"
      ],
      "metadata": {
        "colab": {
          "base_uri": "https://localhost:8080/",
          "height": 465
        },
        "id": "5Nx6s5fCLlbe",
        "outputId": "84c7deb4-7878-425c-c329-960d92b0bc48"
      },
      "execution_count": null,
      "outputs": [
        {
          "output_type": "stream",
          "name": "stdout",
          "text": [
            "2/2 [==============================] - 2s 16ms/step\n",
            "RMSE: 864.8514137755757\n"
          ]
        },
        {
          "output_type": "display_data",
          "data": {
            "text/plain": [
              "<Figure size 640x480 with 1 Axes>"
            ],
            "image/png": "[encoded data removed]"
          },
          "metadata": {}
        }
      ]
    }
  ]
}